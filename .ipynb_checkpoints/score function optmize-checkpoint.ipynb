{
 "cells": [
  {
   "cell_type": "code",
   "execution_count": 1,
   "metadata": {
    "collapsed": true
   },
   "outputs": [],
   "source": [
    "import numpy as np \n",
    "import matplotlib.pyplot as plt\n",
    "%matplotlib inline"
   ]
  },
  {
   "cell_type": "code",
   "execution_count": 2,
   "metadata": {
    "collapsed": false
   },
   "outputs": [],
   "source": [
    "Tday = 100 # 天数 \n",
    "Mt = np.random.rand(Tday)*30 +10   #10~40 float\n"
   ]
  },
  {
   "cell_type": "code",
   "execution_count": 3,
   "metadata": {
    "collapsed": false
   },
   "outputs": [],
   "source": [
    "x = np.arange(0.0,50.0,0.1)\n",
    "y = np.zeros_like(x)"
   ]
  },
  {
   "cell_type": "code",
   "execution_count": 4,
   "metadata": {
    "collapsed": false
   },
   "outputs": [],
   "source": [
    "for i in range(len(x)):\n",
    "   y[i] = np.sum(np.fabs((x[i]-Mt)/(x[i]+Mt)))/Tday\n",
    "    "
   ]
  },
  {
   "cell_type": "code",
   "execution_count": 5,
   "metadata": {
    "collapsed": false,
    "scrolled": true
   },
   "outputs": [
    {
     "data": {
      "text/plain": [
       "array([  0. ,   0.1,   0.2,   0.3,   0.4,   0.5,   0.6,   0.7,   0.8,\n",
       "         0.9,   1. ,   1.1,   1.2,   1.3,   1.4,   1.5,   1.6,   1.7,\n",
       "         1.8,   1.9,   2. ,   2.1,   2.2,   2.3,   2.4,   2.5,   2.6,\n",
       "         2.7,   2.8,   2.9,   3. ,   3.1,   3.2,   3.3,   3.4,   3.5,\n",
       "         3.6,   3.7,   3.8,   3.9,   4. ,   4.1,   4.2,   4.3,   4.4,\n",
       "         4.5,   4.6,   4.7,   4.8,   4.9,   5. ,   5.1,   5.2,   5.3,\n",
       "         5.4,   5.5,   5.6,   5.7,   5.8,   5.9,   6. ,   6.1,   6.2,\n",
       "         6.3,   6.4,   6.5,   6.6,   6.7,   6.8,   6.9,   7. ,   7.1,\n",
       "         7.2,   7.3,   7.4,   7.5,   7.6,   7.7,   7.8,   7.9,   8. ,\n",
       "         8.1,   8.2,   8.3,   8.4,   8.5,   8.6,   8.7,   8.8,   8.9,\n",
       "         9. ,   9.1,   9.2,   9.3,   9.4,   9.5,   9.6,   9.7,   9.8,\n",
       "         9.9,  10. ,  10.1,  10.2,  10.3,  10.4,  10.5,  10.6,  10.7,\n",
       "        10.8,  10.9,  11. ,  11.1,  11.2,  11.3,  11.4,  11.5,  11.6,\n",
       "        11.7,  11.8,  11.9,  12. ,  12.1,  12.2,  12.3,  12.4,  12.5,\n",
       "        12.6,  12.7,  12.8,  12.9,  13. ,  13.1,  13.2,  13.3,  13.4,\n",
       "        13.5,  13.6,  13.7,  13.8,  13.9,  14. ,  14.1,  14.2,  14.3,\n",
       "        14.4,  14.5,  14.6,  14.7,  14.8,  14.9,  15. ,  15.1,  15.2,\n",
       "        15.3,  15.4,  15.5,  15.6,  15.7,  15.8,  15.9,  16. ,  16.1,\n",
       "        16.2,  16.3,  16.4,  16.5,  16.6,  16.7,  16.8,  16.9,  17. ,\n",
       "        17.1,  17.2,  17.3,  17.4,  17.5,  17.6,  17.7,  17.8,  17.9,\n",
       "        18. ,  18.1,  18.2,  18.3,  18.4,  18.5,  18.6,  18.7,  18.8,\n",
       "        18.9,  19. ,  19.1,  19.2,  19.3,  19.4,  19.5,  19.6,  19.7,\n",
       "        19.8,  19.9,  20. ,  20.1,  20.2,  20.3,  20.4,  20.5,  20.6,\n",
       "        20.7,  20.8,  20.9,  21. ,  21.1,  21.2,  21.3,  21.4,  21.5,\n",
       "        21.6,  21.7,  21.8,  21.9,  22. ,  22.1,  22.2,  22.3,  22.4,\n",
       "        22.5,  22.6,  22.7,  22.8,  22.9,  23. ,  23.1,  23.2,  23.3,\n",
       "        23.4,  23.5,  23.6,  23.7,  23.8,  23.9,  24. ,  24.1,  24.2,\n",
       "        24.3,  24.4,  24.5,  24.6,  24.7,  24.8,  24.9,  25. ,  25.1,\n",
       "        25.2,  25.3,  25.4,  25.5,  25.6,  25.7,  25.8,  25.9,  26. ,\n",
       "        26.1,  26.2,  26.3,  26.4,  26.5,  26.6,  26.7,  26.8,  26.9,\n",
       "        27. ,  27.1,  27.2,  27.3,  27.4,  27.5,  27.6,  27.7,  27.8,\n",
       "        27.9,  28. ,  28.1,  28.2,  28.3,  28.4,  28.5,  28.6,  28.7,\n",
       "        28.8,  28.9,  29. ,  29.1,  29.2,  29.3,  29.4,  29.5,  29.6,\n",
       "        29.7,  29.8,  29.9,  30. ,  30.1,  30.2,  30.3,  30.4,  30.5,\n",
       "        30.6,  30.7,  30.8,  30.9,  31. ,  31.1,  31.2,  31.3,  31.4,\n",
       "        31.5,  31.6,  31.7,  31.8,  31.9,  32. ,  32.1,  32.2,  32.3,\n",
       "        32.4,  32.5,  32.6,  32.7,  32.8,  32.9,  33. ,  33.1,  33.2,\n",
       "        33.3,  33.4,  33.5,  33.6,  33.7,  33.8,  33.9,  34. ,  34.1,\n",
       "        34.2,  34.3,  34.4,  34.5,  34.6,  34.7,  34.8,  34.9,  35. ,\n",
       "        35.1,  35.2,  35.3,  35.4,  35.5,  35.6,  35.7,  35.8,  35.9,\n",
       "        36. ,  36.1,  36.2,  36.3,  36.4,  36.5,  36.6,  36.7,  36.8,\n",
       "        36.9,  37. ,  37.1,  37.2,  37.3,  37.4,  37.5,  37.6,  37.7,\n",
       "        37.8,  37.9,  38. ,  38.1,  38.2,  38.3,  38.4,  38.5,  38.6,\n",
       "        38.7,  38.8,  38.9,  39. ,  39.1,  39.2,  39.3,  39.4,  39.5,\n",
       "        39.6,  39.7,  39.8,  39.9,  40. ,  40.1,  40.2,  40.3,  40.4,\n",
       "        40.5,  40.6,  40.7,  40.8,  40.9,  41. ,  41.1,  41.2,  41.3,\n",
       "        41.4,  41.5,  41.6,  41.7,  41.8,  41.9,  42. ,  42.1,  42.2,\n",
       "        42.3,  42.4,  42.5,  42.6,  42.7,  42.8,  42.9,  43. ,  43.1,\n",
       "        43.2,  43.3,  43.4,  43.5,  43.6,  43.7,  43.8,  43.9,  44. ,\n",
       "        44.1,  44.2,  44.3,  44.4,  44.5,  44.6,  44.7,  44.8,  44.9,\n",
       "        45. ,  45.1,  45.2,  45.3,  45.4,  45.5,  45.6,  45.7,  45.8,\n",
       "        45.9,  46. ,  46.1,  46.2,  46.3,  46.4,  46.5,  46.6,  46.7,\n",
       "        46.8,  46.9,  47. ,  47.1,  47.2,  47.3,  47.4,  47.5,  47.6,\n",
       "        47.7,  47.8,  47.9,  48. ,  48.1,  48.2,  48.3,  48.4,  48.5,\n",
       "        48.6,  48.7,  48.8,  48.9,  49. ,  49.1,  49.2,  49.3,  49.4,\n",
       "        49.5,  49.6,  49.7,  49.8,  49.9])"
      ]
     },
     "execution_count": 5,
     "metadata": {},
     "output_type": "execute_result"
    }
   ],
   "source": [
    "x"
   ]
  },
  {
   "cell_type": "code",
   "execution_count": 6,
   "metadata": {
    "collapsed": false,
    "scrolled": true
   },
   "outputs": [
    {
     "data": {
      "text/plain": [
       "array([ 1.        ,  0.99083341,  0.98176276,  0.97278637,  0.96390257,\n",
       "        0.95510975,  0.94640636,  0.93779084,  0.92926172,  0.92081754,\n",
       "        0.91245687,  0.90417833,  0.89598058,  0.88786228,  0.87982216,\n",
       "        0.87185896,  0.86397145,  0.85615842,  0.84841872,  0.84075119,\n",
       "        0.83315471,  0.82562819,  0.81817057,  0.81078079,  0.80345783,\n",
       "        0.7962007 ,  0.78900841,  0.78188   ,  0.77481455,  0.76781113,\n",
       "        0.76086884,  0.75398681,  0.74716417,  0.74040009,  0.73369373,\n",
       "        0.72704428,  0.72045096,  0.71391298,  0.70742958,  0.70100003,\n",
       "        0.69462358,  0.68829952,  0.68202714,  0.67580576,  0.66963469,\n",
       "        0.66351328,  0.65744088,  0.65141683,  0.64544052,  0.63951134,\n",
       "        0.63362867,  0.62779192,  0.62200052,  0.61625388,  0.61055145,\n",
       "        0.60489268,  0.59927702,  0.59370395,  0.58817293,  0.58268346,\n",
       "        0.57723504,  0.57182716,  0.56645933,  0.56113109,  0.55584196,\n",
       "        0.55059147,  0.54537917,  0.54020461,  0.53506736,  0.52996698,\n",
       "        0.52490304,  0.51987513,  0.51488283,  0.50992574,  0.50500346,\n",
       "        0.5001156 ,  0.49526177,  0.49044159,  0.48565468,  0.48090069,\n",
       "        0.47617925,  0.47149   ,  0.46683258,  0.46220666,  0.4576119 ,\n",
       "        0.45304795,  0.44851449,  0.44401119,  0.43953774,  0.43509382,\n",
       "        0.43067911,  0.42629331,  0.42193612,  0.41760724,  0.41330638,\n",
       "        0.40903325,  0.40478757,  0.40056905,  0.39637742,  0.39221241,\n",
       "        0.38807375,  0.38402401,  0.38003577,  0.37609806,  0.3722554 ,\n",
       "        0.36843592,  0.36463942,  0.36086567,  0.35711446,  0.35338558,\n",
       "        0.34967882,  0.34599397,  0.34233084,  0.33868922,  0.33506892,\n",
       "        0.33146973,  0.32789147,  0.32433394,  0.32079696,  0.31728034,\n",
       "        0.3137839 ,  0.31036962,  0.3069953 ,  0.30370773,  0.30045214,\n",
       "        0.29728601,  0.29422558,  0.29118157,  0.28815689,  0.2852231 ,\n",
       "        0.2823427 ,  0.27951622,  0.27673099,  0.274009  ,  0.27130078,\n",
       "        0.26860623,  0.2659892 ,  0.26349985,  0.26113657,  0.25878443,\n",
       "        0.25644335,  0.25411326,  0.25179407,  0.24951344,  0.24728553,\n",
       "        0.24506782,  0.24295622,  0.24089521,  0.23884328,  0.23680034,\n",
       "        0.23482242,  0.23286378,  0.23091353,  0.2290185 ,  0.22715004,\n",
       "        0.2252894 ,  0.22343653,  0.22159248,  0.21981851,  0.21809604,\n",
       "        0.21640879,  0.21478101,  0.21315957,  0.21154444,  0.20993558,\n",
       "        0.20833296,  0.20673654,  0.20515189,  0.20365177,  0.20219248,\n",
       "        0.20073855,  0.19928998,  0.19784673,  0.19640878,  0.1949761 ,\n",
       "        0.19355791,  0.19219268,  0.19083233,  0.18947683,  0.18815481,\n",
       "        0.18687248,  0.18564221,  0.18444473,  0.18333233,  0.1822697 ,\n",
       "        0.18121852,  0.18017055,  0.17912577,  0.17808418,  0.17704575,\n",
       "        0.17609407,  0.1752171 ,  0.17434479,  0.1734748 ,  0.17260713,\n",
       "        0.17174176,  0.1708787 ,  0.17003113,  0.16922331,  0.16841752,\n",
       "        0.16761377,  0.16681206,  0.16601238,  0.16524971,  0.16450323,\n",
       "        0.16375853,  0.16301562,  0.1622745 ,  0.16153515,  0.16082036,\n",
       "        0.16013231,  0.15947675,  0.15883908,  0.15824204,  0.15765387,\n",
       "        0.15708853,  0.156549  ,  0.15604349,  0.15555174,  0.15506069,\n",
       "        0.15457035,  0.15412485,  0.1537282 ,  0.153381  ,  0.15310884,\n",
       "        0.15284481,  0.15258052,  0.15231598,  0.15208399,  0.15186275,\n",
       "        0.15170753,  0.15161564,  0.1515228 ,  0.1514556 ,  0.15140373,\n",
       "        0.15135078,  0.15129676,  0.15124167,  0.15118555,  0.1511284 ,\n",
       "        0.15107024,  0.15104835,  0.15102962,  0.15100974,  0.15098874,\n",
       "        0.15096662,  0.15094341,  0.15096421,  0.15101966,  0.15107372,\n",
       "        0.15112643,  0.15117778,  0.15123716,  0.15135103,  0.15147733,\n",
       "        0.15162722,  0.15178947,  0.15195   ,  0.15213911,  0.15234253,\n",
       "        0.15257507,  0.15280567,  0.15303433,  0.15326109,  0.15348594,\n",
       "        0.15374098,  0.15399976,  0.15425655,  0.15451137,  0.15477279,\n",
       "        0.15506083,  0.15536043,  0.15568122,  0.15599985,  0.15631634,\n",
       "        0.15663072,  0.15696729,  0.1573346 ,  0.15775083,  0.15816462,\n",
       "        0.158576  ,  0.15899428,  0.15943639,  0.15987602,  0.16031317,\n",
       "        0.1607636 ,  0.16123089,  0.161699  ,  0.16219602,  0.16269772,\n",
       "        0.16322407,  0.16374771,  0.16426867,  0.16478696,  0.16530262,\n",
       "        0.16581565,  0.16632607,  0.16686717,  0.16740605,  0.16794227,\n",
       "        0.16848158,  0.16907424,  0.16968569,  0.17031061,  0.17093263,\n",
       "        0.17155176,  0.17216804,  0.17278147,  0.17339447,  0.17403469,\n",
       "        0.17470531,  0.17540417,  0.17609998,  0.17679274,  0.17748249,\n",
       "        0.17816923,  0.17888202,  0.1795944 ,  0.18033162,  0.18106933,\n",
       "        0.1818176 ,  0.18258032,  0.18333988,  0.18409629,  0.18484957,\n",
       "        0.18559975,  0.18635554,  0.18713784,  0.18794317,  0.18877243,\n",
       "        0.1895984 ,  0.1904211 ,  0.19124054,  0.19205675,  0.19286975,\n",
       "        0.19367955,  0.19452263,  0.19538552,  0.19624511,  0.19710139,\n",
       "        0.1979544 ,  0.19880414,  0.19965065,  0.20049393,  0.20134471,\n",
       "        0.20221949,  0.20312729,  0.20404444,  0.20495821,  0.20586862,\n",
       "        0.20677567,  0.20767941,  0.20857983,  0.20947696,  0.21037083,\n",
       "        0.21126143,  0.2121488 ,  0.21303295,  0.21391391,  0.21479167,\n",
       "        0.21567675,  0.21657594,  0.21748624,  0.21840662,  0.21932374,\n",
       "        0.22025866,  0.22119669,  0.22215212,  0.22311084,  0.22407897,\n",
       "        0.22505813,  0.22603395,  0.22700642,  0.22797559,  0.22894144,\n",
       "        0.22990402,  0.23086333,  0.23184786,  0.23285366,  0.23385611,\n",
       "        0.23487184,  0.23591618,  0.23696108,  0.23800255,  0.23904062,\n",
       "        0.24007529,  0.24110658,  0.24213451,  0.24317661,  0.24424936,\n",
       "        0.24531865,  0.24638818,  0.24747619,  0.24858553,  0.24969205,\n",
       "        0.25079508,  0.25189464,  0.25299074,  0.25409511,  0.25522935,\n",
       "        0.25636525,  0.25749762,  0.2586265 ,  0.2597519 ,  0.26087383,\n",
       "        0.26199231,  0.26310735,  0.26421898,  0.2653272 ,  0.26643204,\n",
       "        0.26753351,  0.26863162,  0.26972639,  0.27081784,  0.27190598,\n",
       "        0.27299083,  0.2740724 ,  0.2751507 ,  0.27622576,  0.27729758,\n",
       "        0.27836619,  0.27943159,  0.2804938 ,  0.28155284,  0.28260872,\n",
       "        0.28366145,  0.28471105,  0.28575754,  0.28680092,  0.28784121,\n",
       "        0.28887842,  0.28991258,  0.29094368,  0.29197175,  0.2929968 ,\n",
       "        0.29401885,  0.2950379 ,  0.29605397,  0.29706707,  0.29807722,\n",
       "        0.29908442,  0.3000887 ,  0.30109007,  0.30208853,  0.3030841 ,\n",
       "        0.3040768 ,  0.30506663,  0.30605361,  0.30703775,  0.30801907,\n",
       "        0.30899757,  0.30997327,  0.31094617,  0.31191631,  0.31288367,\n",
       "        0.31384828,  0.31481015,  0.31576929,  0.31672571,  0.31767943,\n",
       "        0.31863045,  0.31957879,  0.32052445,  0.32146746,  0.32240781,\n",
       "        0.32334553,  0.32428062,  0.3252131 ,  0.32614297,  0.32707025,\n",
       "        0.32799495,  0.32891708,  0.32983664,  0.33075366,  0.33166813,\n",
       "        0.33258008,  0.33348951,  0.33439644,  0.33530087,  0.33620281,\n",
       "        0.33710227,  0.33799927,  0.33889382,  0.33978592,  0.34067558,\n",
       "        0.34156282,  0.34244765,  0.34333007,  0.34421009,  0.34508773,\n",
       "        0.345963  ,  0.3468359 ,  0.34770644,  0.34857464,  0.3494405 ,\n",
       "        0.35030404,  0.35116525,  0.35202416,  0.35288077,  0.35373509])"
      ]
     },
     "execution_count": 6,
     "metadata": {},
     "output_type": "execute_result"
    }
   ],
   "source": [
    "y"
   ]
  },
  {
   "cell_type": "code",
   "execution_count": 7,
   "metadata": {
    "collapsed": false
   },
   "outputs": [
    {
     "data": {
      "text/plain": [
       "[<matplotlib.lines.Line2D at 0x103f6f8d0>]"
      ]
     },
     "execution_count": 7,
     "metadata": {},
     "output_type": "execute_result"
    },
    {
     "data": {
      "image/png": "[encoded data removed]",
      "text/plain": [
       "<matplotlib.figure.Figure at 0x10a5cf090>"
      ]
     },
     "metadata": {},
     "output_type": "display_data"
    }
   ],
   "source": [
    "plt.figure(figsize=(14,10))\n",
    "plt.plot(x,y)"
   ]
  },
  {
   "cell_type": "markdown",
   "metadata": {},
   "source": [
    "结论 :1. 猜大不猜小\n",
    "     2.图像成  U 型\n",
    "     3. 上升模型要特别注意\n",
    "    "
   ]
  }
 ],
 "metadata": {
  "kernelspec": {
   "display_name": "Python [Root]",
   "language": "python",
   "name": "Python [Root]"
  },
  "language_info": {
   "codemirror_mode": {
    "name": "ipython",
    "version": 2
   },
   "file_extension": ".py",
   "mimetype": "text/x-python",
   "name": "python",
   "nbconvert_exporter": "python",
   "pygments_lexer": "ipython2",
   "version": "2.7.12"
  }
 },
 "nbformat": 4,
 "nbformat_minor": 0
}
