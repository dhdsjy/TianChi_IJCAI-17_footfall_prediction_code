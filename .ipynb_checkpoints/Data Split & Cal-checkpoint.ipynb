{
 "cells": [
  {
   "cell_type": "code",
   "execution_count": 1,
   "metadata": {
    "collapsed": true
   },
   "outputs": [],
   "source": [
    "import os\n",
    "import pandas as pd\n",
    "import numpy as np\n",
    "import matplotlib.pyplot as plt\n",
    "import seaborn as sns\n",
    "import datetime\n",
    "import time\n",
    "\n",
    "%matplotlib inline"
   ]
  },
  {
   "cell_type": "code",
   "execution_count": 4,
   "metadata": {
    "collapsed": false
   },
   "outputs": [],
   "source": [
    "path = os.getcwd().split('TianChi_IJCAI-17_footfall_prediction_code')[0]\n",
    "\n",
    "shop_info = pd.read_table(path+'dataset/shop_info.txt',names=['shop_id','city_name','location_id','per_pay','score','comment_cnt','shop_level','cate_1_name','cate_2_name','cate_3_name'],header=None,delimiter=',',encoding='utf8',delim_whitespace=False,index_col=False)\n"
   ]
  },
  {
   "cell_type": "code",
   "execution_count": 5,
   "metadata": {
    "collapsed": false
   },
   "outputs": [
    {
     "data": {
      "text/html": [
       "<div>\n",
       "<table border=\"1\" class=\"dataframe\">\n",
       "  <thead>\n",
       "    <tr style=\"text-align: right;\">\n",
       "      <th></th>\n",
       "      <th>shop_id</th>\n",
       "      <th>city_name</th>\n",
       "      <th>location_id</th>\n",
       "      <th>per_pay</th>\n",
       "      <th>score</th>\n",
       "      <th>comment_cnt</th>\n",
       "      <th>shop_level</th>\n",
       "      <th>cate_1_name</th>\n",
       "      <th>cate_2_name</th>\n",
       "      <th>cate_3_name</th>\n",
       "    </tr>\n",
       "  </thead>\n",
       "  <tbody>\n",
       "    <tr>\n",
       "      <th>0</th>\n",
       "      <td>1</td>\n",
       "      <td>湖州</td>\n",
       "      <td>885</td>\n",
       "      <td>8</td>\n",
       "      <td>4.0</td>\n",
       "      <td>12.0</td>\n",
       "      <td>2</td>\n",
       "      <td>美食</td>\n",
       "      <td>休闲茶饮</td>\n",
       "      <td>饮品/甜点</td>\n",
       "    </tr>\n",
       "    <tr>\n",
       "      <th>1</th>\n",
       "      <td>2</td>\n",
       "      <td>哈尔滨</td>\n",
       "      <td>64</td>\n",
       "      <td>19</td>\n",
       "      <td>NaN</td>\n",
       "      <td>NaN</td>\n",
       "      <td>1</td>\n",
       "      <td>超市便利店</td>\n",
       "      <td>超市</td>\n",
       "      <td>NaN</td>\n",
       "    </tr>\n",
       "    <tr>\n",
       "      <th>2</th>\n",
       "      <td>3</td>\n",
       "      <td>南昌</td>\n",
       "      <td>774</td>\n",
       "      <td>5</td>\n",
       "      <td>3.0</td>\n",
       "      <td>2.0</td>\n",
       "      <td>0</td>\n",
       "      <td>美食</td>\n",
       "      <td>休闲茶饮</td>\n",
       "      <td>奶茶</td>\n",
       "    </tr>\n",
       "    <tr>\n",
       "      <th>3</th>\n",
       "      <td>4</td>\n",
       "      <td>天津</td>\n",
       "      <td>380</td>\n",
       "      <td>18</td>\n",
       "      <td>NaN</td>\n",
       "      <td>NaN</td>\n",
       "      <td>1</td>\n",
       "      <td>超市便利店</td>\n",
       "      <td>超市</td>\n",
       "      <td>NaN</td>\n",
       "    </tr>\n",
       "    <tr>\n",
       "      <th>4</th>\n",
       "      <td>5</td>\n",
       "      <td>杭州</td>\n",
       "      <td>263</td>\n",
       "      <td>2</td>\n",
       "      <td>2.0</td>\n",
       "      <td>2.0</td>\n",
       "      <td>0</td>\n",
       "      <td>美食</td>\n",
       "      <td>休闲食品</td>\n",
       "      <td>生鲜水果</td>\n",
       "    </tr>\n",
       "  </tbody>\n",
       "</table>\n",
       "</div>"
      ],
      "text/plain": [
       "   shop_id city_name  location_id  per_pay  score  comment_cnt  shop_level  \\\n",
       "0        1        湖州          885        8    4.0         12.0           2   \n",
       "1        2       哈尔滨           64       19    NaN          NaN           1   \n",
       "2        3        南昌          774        5    3.0          2.0           0   \n",
       "3        4        天津          380       18    NaN          NaN           1   \n",
       "4        5        杭州          263        2    2.0          2.0           0   \n",
       "\n",
       "  cate_1_name cate_2_name cate_3_name  \n",
       "0          美食        休闲茶饮       饮品/甜点  \n",
       "1       超市便利店          超市         NaN  \n",
       "2          美食        休闲茶饮          奶茶  \n",
       "3       超市便利店          超市         NaN  \n",
       "4          美食        休闲食品        生鲜水果  "
      ]
     },
     "execution_count": 5,
     "metadata": {},
     "output_type": "execute_result"
    }
   ],
   "source": [
    "shop_info.head()"
   ]
  },
  {
   "cell_type": "code",
   "execution_count": 6,
   "metadata": {
    "collapsed": false
   },
   "outputs": [
    {
     "name": "stderr",
     "output_type": "stream",
     "text": [
      "/Users/wakemeup/anaconda/lib/python2.7/site-packages/numpy/lib/function_base.py:3834: RuntimeWarning: Invalid value encountered in percentile\n",
      "  RuntimeWarning)\n"
     ]
    },
    {
     "data": {
      "text/html": [
       "<div>\n",
       "<table border=\"1\" class=\"dataframe\">\n",
       "  <thead>\n",
       "    <tr style=\"text-align: right;\">\n",
       "      <th></th>\n",
       "      <th>shop_id</th>\n",
       "      <th>location_id</th>\n",
       "      <th>per_pay</th>\n",
       "      <th>score</th>\n",
       "      <th>comment_cnt</th>\n",
       "      <th>shop_level</th>\n",
       "    </tr>\n",
       "  </thead>\n",
       "  <tbody>\n",
       "    <tr>\n",
       "      <th>count</th>\n",
       "      <td>2000.000000</td>\n",
       "      <td>2000.000000</td>\n",
       "      <td>2000.000000</td>\n",
       "      <td>1709.000000</td>\n",
       "      <td>1709.000000</td>\n",
       "      <td>2000.000000</td>\n",
       "    </tr>\n",
       "    <tr>\n",
       "      <th>mean</th>\n",
       "      <td>1000.500000</td>\n",
       "      <td>583.083000</td>\n",
       "      <td>10.479000</td>\n",
       "      <td>2.677004</td>\n",
       "      <td>3.130486</td>\n",
       "      <td>0.814500</td>\n",
       "    </tr>\n",
       "    <tr>\n",
       "      <th>std</th>\n",
       "      <td>577.494589</td>\n",
       "      <td>335.763357</td>\n",
       "      <td>5.762479</td>\n",
       "      <td>1.024211</td>\n",
       "      <td>3.499072</td>\n",
       "      <td>0.855836</td>\n",
       "    </tr>\n",
       "    <tr>\n",
       "      <th>min</th>\n",
       "      <td>1.000000</td>\n",
       "      <td>1.000000</td>\n",
       "      <td>1.000000</td>\n",
       "      <td>0.000000</td>\n",
       "      <td>0.000000</td>\n",
       "      <td>0.000000</td>\n",
       "    </tr>\n",
       "    <tr>\n",
       "      <th>25%</th>\n",
       "      <td>500.750000</td>\n",
       "      <td>287.750000</td>\n",
       "      <td>5.000000</td>\n",
       "      <td>NaN</td>\n",
       "      <td>NaN</td>\n",
       "      <td>0.000000</td>\n",
       "    </tr>\n",
       "    <tr>\n",
       "      <th>50%</th>\n",
       "      <td>1000.500000</td>\n",
       "      <td>577.500000</td>\n",
       "      <td>10.000000</td>\n",
       "      <td>NaN</td>\n",
       "      <td>NaN</td>\n",
       "      <td>1.000000</td>\n",
       "    </tr>\n",
       "    <tr>\n",
       "      <th>75%</th>\n",
       "      <td>1500.250000</td>\n",
       "      <td>877.250000</td>\n",
       "      <td>15.000000</td>\n",
       "      <td>NaN</td>\n",
       "      <td>NaN</td>\n",
       "      <td>2.000000</td>\n",
       "    </tr>\n",
       "    <tr>\n",
       "      <th>max</th>\n",
       "      <td>2000.000000</td>\n",
       "      <td>1159.000000</td>\n",
       "      <td>20.000000</td>\n",
       "      <td>4.000000</td>\n",
       "      <td>20.000000</td>\n",
       "      <td>2.000000</td>\n",
       "    </tr>\n",
       "  </tbody>\n",
       "</table>\n",
       "</div>"
      ],
      "text/plain": [
       "           shop_id  location_id      per_pay        score  comment_cnt  \\\n",
       "count  2000.000000  2000.000000  2000.000000  1709.000000  1709.000000   \n",
       "mean   1000.500000   583.083000    10.479000     2.677004     3.130486   \n",
       "std     577.494589   335.763357     5.762479     1.024211     3.499072   \n",
       "min       1.000000     1.000000     1.000000     0.000000     0.000000   \n",
       "25%     500.750000   287.750000     5.000000          NaN          NaN   \n",
       "50%    1000.500000   577.500000    10.000000          NaN          NaN   \n",
       "75%    1500.250000   877.250000    15.000000          NaN          NaN   \n",
       "max    2000.000000  1159.000000    20.000000     4.000000    20.000000   \n",
       "\n",
       "        shop_level  \n",
       "count  2000.000000  \n",
       "mean      0.814500  \n",
       "std       0.855836  \n",
       "min       0.000000  \n",
       "25%       0.000000  \n",
       "50%       1.000000  \n",
       "75%       2.000000  \n",
       "max       2.000000  "
      ]
     },
     "execution_count": 6,
     "metadata": {},
     "output_type": "execute_result"
    }
   ],
   "source": [
    "shop_info.describe()"
   ]
  },
  {
   "cell_type": "code",
   "execution_count": 7,
   "metadata": {
    "collapsed": false
   },
   "outputs": [
    {
     "name": "stdout",
     "output_type": "stream",
     "text": [
      "<class 'pandas.core.frame.DataFrame'>\n",
      "RangeIndex: 2000 entries, 0 to 1999\n",
      "Data columns (total 10 columns):\n",
      "shop_id        2000 non-null int64\n",
      "city_name      2000 non-null object\n",
      "location_id    2000 non-null int64\n",
      "per_pay        2000 non-null int64\n",
      "score          1709 non-null float64\n",
      "comment_cnt    1709 non-null float64\n",
      "shop_level     2000 non-null int64\n",
      "cate_1_name    2000 non-null object\n",
      "cate_2_name    2000 non-null object\n",
      "cate_3_name    1415 non-null object\n",
      "dtypes: float64(2), int64(4), object(4)\n",
      "memory usage: 156.3+ KB\n"
     ]
    }
   ],
   "source": [
    "shop_info.info()"
   ]
  },
  {
   "cell_type": "code",
   "execution_count": 8,
   "metadata": {
    "collapsed": false
   },
   "outputs": [
    {
     "data": {
      "text/plain": [
       "美食          1415\n",
       "超市便利店        579\n",
       "医疗健康           2\n",
       "休闲娱乐           2\n",
       "美发/美容/美甲       1\n",
       "购物             1\n",
       "Name: cate_1_name, dtype: int64"
      ]
     },
     "execution_count": 8,
     "metadata": {},
     "output_type": "execute_result"
    }
   ],
   "source": [
    "shop_info['cate_1_name'].value_counts()"
   ]
  },
  {
   "cell_type": "code",
   "execution_count": 12,
   "metadata": {
    "collapsed": false,
    "scrolled": true
   },
   "outputs": [
    {
     "data": {
      "text/plain": [
       "快餐             639\n",
       "超市             372\n",
       "便利店            206\n",
       "休闲茶饮           177\n",
       "小吃             156\n",
       "休闲食品           150\n",
       "烘焙糕点           122\n",
       "中餐              78\n",
       "其他美食            44\n",
       "火锅              33\n",
       "烧烤               9\n",
       "汤/粥/煲/砂锅/炖菜      7\n",
       "药店               2\n",
       "网吧网咖             2\n",
       "美容美发             1\n",
       "本地购物             1\n",
       "个人护理             1\n",
       "Name: cate_2_name, dtype: int64"
      ]
     },
     "execution_count": 12,
     "metadata": {},
     "output_type": "execute_result"
    }
   ],
   "source": [
    "shop_info['cate_2_name'].value_counts()"
   ]
  },
  {
   "cell_type": "code",
   "execution_count": 10,
   "metadata": {
    "collapsed": false
   },
   "outputs": [
    {
     "data": {
      "text/plain": [
       "西式快餐        405\n",
       "中式快餐        220\n",
       "生鲜水果        111\n",
       "奶茶           92\n",
       "其它小吃         87\n",
       "面包           71\n",
       "饮品/甜点        67\n",
       "面点           50\n",
       "蛋糕           39\n",
       "零食           22\n",
       "其它地方菜        20\n",
       "西餐           19\n",
       "其它休闲食品       16\n",
       "日韩料理         15\n",
       "米粉/米线        15\n",
       "其它快餐         14\n",
       "江浙菜          13\n",
       "川味/重庆火锅      13\n",
       "川菜           13\n",
       "其它烘焙糕点       12\n",
       "粤菜           12\n",
       "其它火锅         11\n",
       "冰激凌          10\n",
       "麻辣烫/串串香       9\n",
       "中式烧烤          8\n",
       "其他餐饮美食        7\n",
       "咖啡            6\n",
       "西北菜           6\n",
       "熟食            4\n",
       "砂锅/煲类/炖菜      4\n",
       "东北菜           3\n",
       "海鲜            3\n",
       "自助餐           3\n",
       "粥             3\n",
       "台湾菜           2\n",
       "湖北菜           2\n",
       "咖啡厅           2\n",
       "其它烧烤          1\n",
       "湘菜            1\n",
       "闽菜            1\n",
       "香锅/烤鱼         1\n",
       "上海本帮菜         1\n",
       "美食特产          1\n",
       "Name: cate_3_name, dtype: int64"
      ]
     },
     "execution_count": 10,
     "metadata": {},
     "output_type": "execute_result"
    }
   ],
   "source": [
    "shop_info['cate_3_name'].value_counts()"
   ]
  },
  {
   "cell_type": "code",
   "execution_count": 13,
   "metadata": {
    "collapsed": true
   },
   "outputs": [],
   "source": [
    "\n",
    "user_pay = pd.read_table(path+'dataset/user_pay.txt',names=['user_id','shop_id','time_stamp'],header=None,delimiter=',',encoding='utf8',delim_whitespace=False,index_col=False)\n"
   ]
  },
  {
   "cell_type": "code",
   "execution_count": 18,
   "metadata": {
    "collapsed": false
   },
   "outputs": [
    {
     "data": {
      "text/plain": [
       "user_id       69674110\n",
       "shop_id       69674110\n",
       "time_stamp    69674110\n",
       "dtype: int64"
      ]
     },
     "execution_count": 18,
     "metadata": {},
     "output_type": "execute_result"
    }
   ],
   "source": [
    "user_pay.count()"
   ]
  },
  {
   "cell_type": "code",
   "execution_count": 16,
   "metadata": {
    "collapsed": false
   },
   "outputs": [
    {
     "data": {
      "text/plain": [
       "69674110"
      ]
     },
     "execution_count": 16,
     "metadata": {},
     "output_type": "execute_result"
    }
   ],
   "source": [
    "user_pay.shape[0]"
   ]
  },
  {
   "cell_type": "code",
   "execution_count": null,
   "metadata": {
    "collapsed": false
   },
   "outputs": [],
   "source": [
    "user_pay['time_stamp'].value_counts()"
   ]
  },
  {
   "cell_type": "code",
   "execution_count": null,
   "metadata": {
    "collapsed": true
   },
   "outputs": [],
   "source": []
  }
 ],
 "metadata": {
  "kernelspec": {
   "display_name": "Python [Root]",
   "language": "python",
   "name": "Python [Root]"
  },
  "language_info": {
   "codemirror_mode": {
    "name": "ipython",
    "version": 2
   },
   "file_extension": ".py",
   "mimetype": "text/x-python",
   "name": "python",
   "nbconvert_exporter": "python",
   "pygments_lexer": "ipython2",
   "version": "2.7.12"
  }
 },
 "nbformat": 4,
 "nbformat_minor": 0
}
